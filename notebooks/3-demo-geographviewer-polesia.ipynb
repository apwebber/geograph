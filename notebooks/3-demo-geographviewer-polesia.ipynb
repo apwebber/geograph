{
 "cells": [
  {
   "cell_type": "markdown",
   "id": "unlimited-specialist",
   "metadata": {},
   "source": [
    "# Visualising GeoGraph Interactively"
   ]
  },
  {
   "cell_type": "markdown",
   "id": "86ba856b-c101-4414-945e-75a016237f7e",
   "metadata": {},
   "source": [
    "[![Binder](https://mybinder.org/badge_logo.svg)](https://mybinder.org/v2/gh/ai4er-cdt/gtc-biodiversity/main?filepath=notebooks%2F3-demo-geographviewer-polesia.ipynb)"
   ]
  },
  {
   "cell_type": "markdown",
   "id": "be46c56e-6f37-4528-a0de-fb61fa65932d",
   "metadata": {},
   "source": [
    "This tutorial shows how to visualise a GeoGraph on an interactive map."
   ]
  },
  {
   "cell_type": "markdown",
   "id": "cooked-caution",
   "metadata": {},
   "source": [
    "---\n",
    "\n",
    "## 1. Setup and Loading package"
   ]
  },
  {
   "cell_type": "code",
   "execution_count": 12,
   "id": "measured-modern",
   "metadata": {
    "ExecuteTime": {
     "end_time": "2021-03-24T18:30:41.287059Z",
     "start_time": "2021-03-24T18:30:40.997209Z"
    },
    "execution": {
     "iopub.execute_input": "2021-03-25T11:54:50.866123Z",
     "iopub.status.busy": "2021-03-25T11:54:50.865818Z",
     "iopub.status.idle": "2021-03-25T11:54:50.912854Z",
     "shell.execute_reply": "2021-03-25T11:54:50.907825Z",
     "shell.execute_reply.started": "2021-03-25T11:54:50.866022Z"
    },
    "nbsphinx": "hidden",
    "tags": []
   },
   "outputs": [
    {
     "name": "stdout",
     "output_type": "stream",
     "text": [
      "The autoreload extension is already loaded. To reload it, use:\n",
      "  %reload_ext autoreload\n"
     ]
    }
   ],
   "source": [
    "%load_ext autoreload\n",
    "%autoreload 2\n",
    "%config IPCompleter.greedy=True"
   ]
  },
  {
   "cell_type": "code",
   "execution_count": 13,
   "id": "federal-virginia",
   "metadata": {
    "ExecuteTime": {
     "end_time": "2021-03-24T18:30:50.743648Z",
     "start_time": "2021-03-24T18:30:42.247097Z"
    },
    "execution": {
     "iopub.execute_input": "2021-03-25T21:27:25.852124Z",
     "iopub.status.busy": "2021-03-25T21:27:25.851792Z",
     "iopub.status.idle": "2021-03-25T21:27:28.964203Z",
     "shell.execute_reply": "2021-03-25T21:27:28.963093Z",
     "shell.execute_reply.started": "2021-03-25T21:27:25.852039Z"
    },
    "tags": []
   },
   "outputs": [],
   "source": [
    "import sys\n",
    "import ipyleaflet\n",
    "import geopandas\n",
    "\n",
    "sys.path.append(\"..\")\n",
    "\n",
    "import geograph\n",
    "from geograph.visualisation import geoviewer\n",
    "from geograph.constants import UTM35N\n",
    "from geograph.demo.binder_constants import DATA_DIR"
   ]
  },
  {
   "cell_type": "markdown",
   "id": "looking-elephant",
   "metadata": {},
   "source": [
    "---\n",
    "\n",
    "## 2. Loading Data"
   ]
  },
  {
   "cell_type": "code",
   "execution_count": 14,
   "id": "d26d81fe",
   "metadata": {},
   "outputs": [],
   "source": [
    "gdf = geopandas.read_file('../data/polesia/polesia_landcover_sample.gpkg')"
   ]
  },
  {
   "cell_type": "markdown",
   "id": "searching-serial",
   "metadata": {},
   "source": [
    "---\n",
    "\n",
    "## 3. Creating `GeoGraph`"
   ]
  },
  {
   "cell_type": "code",
   "execution_count": 15,
   "id": "entitled-period",
   "metadata": {
    "ExecuteTime": {
     "end_time": "2021-03-24T18:31:10.520498Z",
     "start_time": "2021-03-24T18:31:08.879315Z"
    },
    "execution": {
     "iopub.execute_input": "2021-03-25T21:27:33.188180Z",
     "iopub.status.busy": "2021-03-25T21:27:33.187907Z",
     "iopub.status.idle": "2021-03-25T21:27:33.903881Z",
     "shell.execute_reply": "2021-03-25T21:27:33.902949Z",
     "shell.execute_reply.started": "2021-03-25T21:27:33.188153Z"
    },
    "tags": []
   },
   "outputs": [
    {
     "name": "stderr",
     "output_type": "stream",
     "text": [
      "Step 1 of 2: Creating nodes and finding neighbours: 100%|██████████| 323/323 [00:00<00:00, 2563.52it/s]\n",
      "Step 2 of 2: Adding edges: 100%|██████████| 323/323 [00:00<00:00, 322792.52it/s]"
     ]
    },
    {
     "name": "stdout",
     "output_type": "stream",
     "text": [
      "Graph successfully loaded with 323 nodes and 816 edges.\n"
     ]
    },
    {
     "name": "stderr",
     "output_type": "stream",
     "text": [
      "\n"
     ]
    }
   ],
   "source": [
    "# Building the main graph structure\n",
    "graph = geograph.GeoGraph(\n",
    "    gdf, crs=UTM35N, columns_to_rename={\"Eunis_name\": \"class_label\", \"AREA\": \"area\"}\n",
    ")"
   ]
  },
  {
   "cell_type": "markdown",
   "id": "forced-ballet",
   "metadata": {},
   "source": [
    "---\n",
    "\n",
    "## 4. Creating Habitats"
   ]
  },
  {
   "cell_type": "code",
   "execution_count": 16,
   "id": "ruled-progress",
   "metadata": {
    "ExecuteTime": {
     "end_time": "2021-03-24T18:31:13.001569Z",
     "start_time": "2021-03-24T18:31:12.883560Z"
    },
    "execution": {
     "iopub.execute_input": "2021-03-25T21:27:35.951711Z",
     "iopub.status.busy": "2021-03-25T21:27:35.951274Z",
     "iopub.status.idle": "2021-03-25T21:27:35.958675Z",
     "shell.execute_reply": "2021-03-25T21:27:35.957805Z",
     "shell.execute_reply.started": "2021-03-25T21:27:35.951679Z"
    },
    "tags": []
   },
   "outputs": [
    {
     "data": {
      "text/plain": [
       "['Subcontinental moss Scots pine forests',\n",
       " 'Subcontinental lichen Scots pine forests',\n",
       " 'Subcontinental moorgrass Scots pine forests',\n",
       " 'Boreal Labrador tea Scots pine bog woods',\n",
       " 'Boreal cottonsedge Scots pine bog woods',\n",
       " 'Boreal neutrocline sphagnum Scots pine fen woods',\n",
       " 'Mixed Scots pine-birch woodland']"
      ]
     },
     "execution_count": 16,
     "metadata": {},
     "output_type": "execute_result"
    }
   ],
   "source": [
    "# First selecting the classes that make up our habitat\n",
    "# We chose all classes with 'pine' in the name.\n",
    "pine_classes = [label for label in graph.df.class_label.unique() if \"pine\" in label]\n",
    "pine_classes"
   ]
  },
  {
   "cell_type": "code",
   "execution_count": 17,
   "id": "regular-unemployment",
   "metadata": {
    "ExecuteTime": {
     "end_time": "2021-03-24T18:31:19.697701Z",
     "start_time": "2021-03-24T18:31:13.509316Z"
    },
    "execution": {
     "iopub.execute_input": "2021-03-25T21:27:40.115028Z",
     "iopub.status.busy": "2021-03-25T21:27:40.114714Z",
     "iopub.status.idle": "2021-03-25T21:27:44.702417Z",
     "shell.execute_reply": "2021-03-25T21:27:44.701420Z",
     "shell.execute_reply.started": "2021-03-25T21:27:40.114996Z"
    },
    "tags": []
   },
   "outputs": [
    {
     "name": "stderr",
     "output_type": "stream",
     "text": [
      "Generating habitat graph:   0%|          | 0/95 [00:00<?, ?it/s]\n"
     ]
    },
    {
     "ename": "TypeError",
     "evalue": "Passing a set as an indexer is not supported. Use a list instead.",
     "output_type": "error",
     "traceback": [
      "\u001b[1;31m---------------------------------------------------------------------------\u001b[0m",
      "\u001b[1;31mTypeError\u001b[0m                                 Traceback (most recent call last)",
      "Cell \u001b[1;32mIn[17], line 3\u001b[0m\n\u001b[0;32m      1\u001b[0m \u001b[38;5;66;03m# Distances: mobile (<100m), semi mobile (<25m) and sessile (<5m)\u001b[39;00m\n\u001b[0;32m      2\u001b[0m \u001b[38;5;66;03m# (proposed by Adham Ashton-Butt at BTO)\u001b[39;00m\n\u001b[1;32m----> 3\u001b[0m \u001b[43mgraph\u001b[49m\u001b[38;5;241;43m.\u001b[39;49m\u001b[43madd_habitat\u001b[49m\u001b[43m(\u001b[49m\u001b[38;5;124;43m\"\u001b[39;49m\u001b[38;5;124;43mSessile\u001b[39;49m\u001b[38;5;124;43m\"\u001b[39;49m\u001b[43m,\u001b[49m\u001b[43m \u001b[49m\u001b[43mmax_travel_distance\u001b[49m\u001b[38;5;241;43m=\u001b[39;49m\u001b[38;5;241;43m5\u001b[39;49m\u001b[43m,\u001b[49m\u001b[43m \u001b[49m\u001b[43mvalid_classes\u001b[49m\u001b[38;5;241;43m=\u001b[39;49m\u001b[43mpine_classes\u001b[49m\u001b[43m)\u001b[49m\n\u001b[0;32m      5\u001b[0m graph\u001b[38;5;241m.\u001b[39madd_habitat(\u001b[38;5;124m\"\u001b[39m\u001b[38;5;124mSemi mobile\u001b[39m\u001b[38;5;124m\"\u001b[39m, max_travel_distance\u001b[38;5;241m=\u001b[39m\u001b[38;5;241m25\u001b[39m, valid_classes\u001b[38;5;241m=\u001b[39mpine_classes)\n\u001b[0;32m      7\u001b[0m graph\u001b[38;5;241m.\u001b[39madd_habitat(\u001b[38;5;124m\"\u001b[39m\u001b[38;5;124mMobile\u001b[39m\u001b[38;5;124m\"\u001b[39m, max_travel_distance\u001b[38;5;241m=\u001b[39m\u001b[38;5;241m500\u001b[39m, valid_classes\u001b[38;5;241m=\u001b[39mpine_classes)\n",
      "File \u001b[1;32mc:\\Users\\Alex\\Documents\\python\\geograph-clone\\notebooks\\..\\geograph\\geograph.py:659\u001b[0m, in \u001b[0;36mGeoGraph.add_habitat\u001b[1;34m(self, name, valid_classes, barrier_classes, max_travel_distance, add_distance, add_component_edges)\u001b[0m\n\u001b[0;32m    657\u001b[0m barrier_nbrs \u001b[38;5;241m=\u001b[39m {idx_dict[nbr] \u001b[38;5;28;01mfor\u001b[39;00m nbr \u001b[38;5;129;01min\u001b[39;00m barrier_indices\u001b[38;5;241m.\u001b[39mintersection(nbrs)}\n\u001b[0;32m    658\u001b[0m barriers_exist \u001b[38;5;241m=\u001b[39m \u001b[38;5;28mlen\u001b[39m(barrier_nbrs) \u001b[38;5;241m>\u001b[39m \u001b[38;5;241m0\u001b[39m\n\u001b[1;32m--> 659\u001b[0m barrier_poly \u001b[38;5;241m=\u001b[39m \u001b[38;5;28;43mself\u001b[39;49m\u001b[38;5;241;43m.\u001b[39;49m\u001b[43mdf\u001b[49m\u001b[43m[\u001b[49m\u001b[38;5;124;43m\"\u001b[39;49m\u001b[38;5;124;43mgeometry\u001b[39;49m\u001b[38;5;124;43m\"\u001b[39;49m\u001b[43m]\u001b[49m\u001b[38;5;241;43m.\u001b[39;49m\u001b[43mloc\u001b[49m\u001b[43m[\u001b[49m\u001b[43mbarrier_nbrs\u001b[49m\u001b[43m]\u001b[49m\u001b[38;5;241m.\u001b[39munary_union\n\u001b[0;32m    660\u001b[0m \u001b[38;5;66;03m# Necessary to correct for the rtree returning iloc indexes\u001b[39;00m\n\u001b[0;32m    661\u001b[0m nbrs \u001b[38;5;241m=\u001b[39m {idx_dict[nbr] \u001b[38;5;28;01mfor\u001b[39;00m nbr \u001b[38;5;129;01min\u001b[39;00m nbrs}\n",
      "File \u001b[1;32mc:\\Users\\Alex\\Documents\\python\\geograph-clone\\.venv\\lib\\site-packages\\pandas\\core\\indexing.py:1178\u001b[0m, in \u001b[0;36m_LocationIndexer.__getitem__\u001b[1;34m(self, key)\u001b[0m\n\u001b[0;32m   1176\u001b[0m \u001b[38;5;129m@final\u001b[39m\n\u001b[0;32m   1177\u001b[0m \u001b[38;5;28;01mdef\u001b[39;00m \u001b[38;5;21m__getitem__\u001b[39m(\u001b[38;5;28mself\u001b[39m, key):\n\u001b[1;32m-> 1178\u001b[0m     \u001b[43mcheck_dict_or_set_indexers\u001b[49m\u001b[43m(\u001b[49m\u001b[43mkey\u001b[49m\u001b[43m)\u001b[49m\n\u001b[0;32m   1179\u001b[0m     \u001b[38;5;28;01mif\u001b[39;00m \u001b[38;5;28mtype\u001b[39m(key) \u001b[38;5;129;01mis\u001b[39;00m \u001b[38;5;28mtuple\u001b[39m:\n\u001b[0;32m   1180\u001b[0m         key \u001b[38;5;241m=\u001b[39m \u001b[38;5;28mtuple\u001b[39m(\u001b[38;5;28mlist\u001b[39m(x) \u001b[38;5;28;01mif\u001b[39;00m is_iterator(x) \u001b[38;5;28;01melse\u001b[39;00m x \u001b[38;5;28;01mfor\u001b[39;00m x \u001b[38;5;129;01min\u001b[39;00m key)\n",
      "File \u001b[1;32mc:\\Users\\Alex\\Documents\\python\\geograph-clone\\.venv\\lib\\site-packages\\pandas\\core\\indexing.py:2774\u001b[0m, in \u001b[0;36mcheck_dict_or_set_indexers\u001b[1;34m(key)\u001b[0m\n\u001b[0;32m   2766\u001b[0m \u001b[38;5;250m\u001b[39m\u001b[38;5;124;03m\"\"\"\u001b[39;00m\n\u001b[0;32m   2767\u001b[0m \u001b[38;5;124;03mCheck if the indexer is or contains a dict or set, which is no longer allowed.\u001b[39;00m\n\u001b[0;32m   2768\u001b[0m \u001b[38;5;124;03m\"\"\"\u001b[39;00m\n\u001b[0;32m   2769\u001b[0m \u001b[38;5;28;01mif\u001b[39;00m (\n\u001b[0;32m   2770\u001b[0m     \u001b[38;5;28misinstance\u001b[39m(key, \u001b[38;5;28mset\u001b[39m)\n\u001b[0;32m   2771\u001b[0m     \u001b[38;5;129;01mor\u001b[39;00m \u001b[38;5;28misinstance\u001b[39m(key, \u001b[38;5;28mtuple\u001b[39m)\n\u001b[0;32m   2772\u001b[0m     \u001b[38;5;129;01mand\u001b[39;00m \u001b[38;5;28many\u001b[39m(\u001b[38;5;28misinstance\u001b[39m(x, \u001b[38;5;28mset\u001b[39m) \u001b[38;5;28;01mfor\u001b[39;00m x \u001b[38;5;129;01min\u001b[39;00m key)\n\u001b[0;32m   2773\u001b[0m ):\n\u001b[1;32m-> 2774\u001b[0m     \u001b[38;5;28;01mraise\u001b[39;00m \u001b[38;5;167;01mTypeError\u001b[39;00m(\n\u001b[0;32m   2775\u001b[0m         \u001b[38;5;124m\"\u001b[39m\u001b[38;5;124mPassing a set as an indexer is not supported. Use a list instead.\u001b[39m\u001b[38;5;124m\"\u001b[39m\n\u001b[0;32m   2776\u001b[0m     )\n\u001b[0;32m   2778\u001b[0m \u001b[38;5;28;01mif\u001b[39;00m (\n\u001b[0;32m   2779\u001b[0m     \u001b[38;5;28misinstance\u001b[39m(key, \u001b[38;5;28mdict\u001b[39m)\n\u001b[0;32m   2780\u001b[0m     \u001b[38;5;129;01mor\u001b[39;00m \u001b[38;5;28misinstance\u001b[39m(key, \u001b[38;5;28mtuple\u001b[39m)\n\u001b[0;32m   2781\u001b[0m     \u001b[38;5;129;01mand\u001b[39;00m \u001b[38;5;28many\u001b[39m(\u001b[38;5;28misinstance\u001b[39m(x, \u001b[38;5;28mdict\u001b[39m) \u001b[38;5;28;01mfor\u001b[39;00m x \u001b[38;5;129;01min\u001b[39;00m key)\n\u001b[0;32m   2782\u001b[0m ):\n\u001b[0;32m   2783\u001b[0m     \u001b[38;5;28;01mraise\u001b[39;00m \u001b[38;5;167;01mTypeError\u001b[39;00m(\n\u001b[0;32m   2784\u001b[0m         \u001b[38;5;124m\"\u001b[39m\u001b[38;5;124mPassing a dict as an indexer is not supported. Use a list instead.\u001b[39m\u001b[38;5;124m\"\u001b[39m\n\u001b[0;32m   2785\u001b[0m     )\n",
      "\u001b[1;31mTypeError\u001b[0m: Passing a set as an indexer is not supported. Use a list instead."
     ]
    }
   ],
   "source": [
    "# Distances: mobile (<100m), semi mobile (<25m) and sessile (<5m)\n",
    "# (proposed by Adham Ashton-Butt at BTO)\n",
    "graph.add_habitat(\"Sessile\", max_travel_distance=5, valid_classes=pine_classes)\n",
    "\n",
    "graph.add_habitat(\"Semi mobile\", max_travel_distance=25, valid_classes=pine_classes)\n",
    "\n",
    "graph.add_habitat(\"Mobile\", max_travel_distance=500, valid_classes=pine_classes)"
   ]
  },
  {
   "cell_type": "markdown",
   "id": "ambient-windsor",
   "metadata": {},
   "source": [
    "---\n",
    "\n",
    "## 5. Interactive Graph"
   ]
  },
  {
   "cell_type": "code",
   "execution_count": null,
   "id": "tired-shirt",
   "metadata": {
    "execution": {
     "iopub.execute_input": "2021-03-25T21:27:48.746288Z",
     "iopub.status.busy": "2021-03-25T21:27:48.745942Z",
     "iopub.status.idle": "2021-03-25T21:28:03.518738Z",
     "shell.execute_reply": "2021-03-25T21:28:03.517787Z",
     "shell.execute_reply.started": "2021-03-25T21:27:48.746254Z"
    },
    "tags": []
   },
   "outputs": [
    {
     "name": "stderr",
     "output_type": "stream",
     "text": [
      "Constructing graph: 100%|██████████| 1/1 [00:00<00:00, 1093.69it/s]\n",
      "Constructing graph: 100%|██████████| 39/39 [00:00<00:00, 9548.09it/s]\n",
      "Constructing graph: 100%|██████████| 36/36 [00:00<00:00, 10671.77it/s]\n",
      "Constructing graph: 100%|██████████| 14/14 [00:00<00:00, 7224.44it/s]\n"
     ]
    },
    {
     "data": {
      "application/vnd.jupyter.widget-view+json": {
       "model_id": "33843074778f4669bbaf8d396567384b",
       "version_major": 2,
       "version_minor": 0
      },
      "text/plain": [
       "GeoGraphViewer(center=[51.389167, 30.099444], controls=(ZoomControl(options=['position', 'zoom_in_text', 'zoom…"
      ]
     },
     "metadata": {},
     "output_type": "display_data"
    }
   ],
   "source": [
    "viewer = geoviewer.GeoGraphViewer(small_screen=True)\n",
    "viewer.add_layer(ipyleaflet.basemaps.Esri.WorldImagery)\n",
    "viewer.add_graph(graph, name=\"Polesia data\", with_components=True)\n",
    "viewer.enable_graph_controls()\n",
    "viewer"
   ]
  },
  {
   "cell_type": "markdown",
   "id": "9928be0d-dc99-4d8c-9376-1d41a3414e0e",
   "metadata": {},
   "source": [
    "> Note: an interactive viewer will show up here."
   ]
  }
 ],
 "metadata": {
  "hide_input": false,
  "kernelspec": {
   "display_name": "Python 3.9.1 64-bit",
   "language": "python",
   "name": "python3"
  },
  "language_info": {
   "codemirror_mode": {
    "name": "ipython",
    "version": 3
   },
   "file_extension": ".py",
   "mimetype": "text/x-python",
   "name": "python",
   "nbconvert_exporter": "python",
   "pygments_lexer": "ipython3",
   "version": "3.10.11"
  },
  "varInspector": {
   "cols": {
    "lenName": 16,
    "lenType": 16,
    "lenVar": 40
   },
   "kernels_config": {
    "python": {
     "delete_cmd_postfix": "",
     "delete_cmd_prefix": "del ",
     "library": "var_list.py",
     "varRefreshCmd": "print(var_dic_list())"
    },
    "r": {
     "delete_cmd_postfix": ") ",
     "delete_cmd_prefix": "rm(",
     "library": "var_list.r",
     "varRefreshCmd": "cat(var_dic_list()) "
    }
   },
   "types_to_exclude": [
    "module",
    "function",
    "builtin_function_or_method",
    "instance",
    "_Feature"
   ],
   "window_display": false
  },
  "vscode": {
   "interpreter": {
    "hash": "aee8b7b246df8f9039afb4144a1f6fd8d2ca17a180786b69acc140d282b71a49"
   }
  }
 },
 "nbformat": 4,
 "nbformat_minor": 5
}
